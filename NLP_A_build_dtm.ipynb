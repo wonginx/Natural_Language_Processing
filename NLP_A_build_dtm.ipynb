{
  "nbformat": 4,
  "nbformat_minor": 0,
  "metadata": {
    "colab": {
      "name": "NLP_A_build_dtm.ipynb",
      "provenance": [],
      "collapsed_sections": [],
      "authorship_tag": "ABX9TyOwKOYo2NYkTPbGy0l4A+7o",
      "include_colab_link": true
    },
    "kernelspec": {
      "name": "python3",
      "display_name": "Python 3"
    },
    "language_info": {
      "name": "python"
    }
  },
  "cells": [
    {
      "cell_type": "markdown",
      "metadata": {
        "id": "view-in-github",
        "colab_type": "text"
      },
      "source": [
        "<a href=\"https://colab.research.google.com/github/wozzin/Natural_Language_Processing/blob/main/NLP_A_build_dtm.ipynb\" target=\"_parent\"><img src=\"https://colab.research.google.com/assets/colab-badge.svg\" alt=\"Open In Colab\"/></a>"
      ]
    },
    {
      "cell_type": "code",
      "metadata": {
        "id": "In5S2xXL7a0T"
      },
      "source": [
        ""
      ],
      "execution_count": 10,
      "outputs": []
    },
    {
      "cell_type": "markdown",
      "metadata": {
        "id": "DUMLRJgd4oNk"
      },
      "source": [
        "# Building a Document-Term Matrix from scratch\n"
      ]
    },
    {
      "cell_type": "code",
      "metadata": {
        "colab": {
          "base_uri": "https://localhost:8080/"
        },
        "id": "8psD-b0p4pAw",
        "outputId": "519a21d2-dd4f-453e-ecf9-327ae58a8ea7"
      },
      "source": [
        "# install & import the libraries needed\n",
        "!pip3 install pandas\n",
        "!pip3 install scikit-learn\n",
        "from typing import List\n",
        "import pandas as pd\n",
        "from sklearn.metrics.pairwise import cosine_similarity"
      ],
      "execution_count": 11,
      "outputs": [
        {
          "output_type": "stream",
          "text": [
            "Requirement already satisfied: pandas in /usr/local/lib/python3.7/dist-packages (1.1.5)\n",
            "Requirement already satisfied: numpy>=1.15.4 in /usr/local/lib/python3.7/dist-packages (from pandas) (1.19.5)\n",
            "Requirement already satisfied: pytz>=2017.2 in /usr/local/lib/python3.7/dist-packages (from pandas) (2018.9)\n",
            "Requirement already satisfied: python-dateutil>=2.7.3 in /usr/local/lib/python3.7/dist-packages (from pandas) (2.8.1)\n",
            "Requirement already satisfied: six>=1.5 in /usr/local/lib/python3.7/dist-packages (from python-dateutil>=2.7.3->pandas) (1.15.0)\n",
            "Requirement already satisfied: scikit-learn in /usr/local/lib/python3.7/dist-packages (0.22.2.post1)\n",
            "Requirement already satisfied: scipy>=0.17.0 in /usr/local/lib/python3.7/dist-packages (from scikit-learn) (1.4.1)\n",
            "Requirement already satisfied: joblib>=0.11 in /usr/local/lib/python3.7/dist-packages (from scikit-learn) (1.0.1)\n",
            "Requirement already satisfied: numpy>=1.11.0 in /usr/local/lib/python3.7/dist-packages (from scikit-learn) (1.19.5)\n"
          ],
          "name": "stdout"
        }
      ]
    },
    {
      "cell_type": "code",
      "metadata": {
        "id": "GAlToICi4uFl"
      },
      "source": [
        "# A mini corpus to play with\n",
        "CORPUS = [\n",
        "    'this is the first document',\n",
        "    'this is the second document',\n",
        "    'and this is the third document',\n",
        "    'is this the first document ?'\n",
        "]"
      ],
      "execution_count": 12,
      "outputs": []
    },
    {
      "cell_type": "code",
      "metadata": {
        "id": "WnFHsQCu4wD5"
      },
      "source": [
        "def tf(term: str, doc: str) -> int:\n",
        "    ### TODO 1 ### \n",
        "    # count the frequency of term in doc. hint: str.count()\n",
        "    tf = sum([\n",
        "          term == word  # True (1) or False (0)\n",
        "          for word in doc.split(\" \")\n",
        "    ])\n",
        "    ##############\n",
        "    return tf"
      ],
      "execution_count": 13,
      "outputs": []
    },
    {
      "cell_type": "code",
      "metadata": {
        "id": "jlijDYUF4x8T"
      },
      "source": [
        "def build_dtm(corpus: List[str]) -> pd.DataFrame:\n",
        "    ### TODO 2 ###\n",
        "    # build a vocabulary of the given corpus - use nested list comprehension, str.split(\" \"),  set,  and list\n",
        "    vocab: List[str] = []\n",
        "    words = [\n",
        "             word\n",
        "             for doc in corpus\n",
        "             for word in doc.split(\" \")\n",
        "    ]\n",
        "    vocab = list(set(words)) # 어휘(vocabulary)\n",
        "    ##############\n",
        "\n",
        "    ### TODO 3 ###\n",
        "    # populate a dtm - get use of the tf function\n",
        "    dtm: List[List[int]] = []\n",
        "    dtm = [\n",
        "           [tf(term, doc) for term in vocab]\n",
        "           for doc in corpus\n",
        "    ]\n",
        "    print(dtm)\n",
        "    ##############\n",
        "    # return dtm as a pandas dataframe (for better visualization of the columns)\n",
        "    dtm = pd.DataFrame(data=dtm, columns=vocab)\n",
        "    return dtm"
      ],
      "execution_count": 21,
      "outputs": []
    },
    {
      "cell_type": "code",
      "metadata": {
        "id": "jm8iVvKu40KT",
        "colab": {
          "base_uri": "https://localhost:8080/"
        },
        "outputId": "eb6fd926-27ea-495e-fc1e-46b329f8ed50"
      },
      "source": [
        " # build a dtm from the corpus, and have a look at it\n",
        "dtm = build_dtm(CORPUS)\n",
        "print(dtm)"
      ],
      "execution_count": 22,
      "outputs": [
        {
          "output_type": "stream",
          "text": [
            "[[0, 1, 1, 1, 0, 0, 0, 1, 1], [0, 1, 1, 0, 1, 0, 0, 1, 1], [0, 1, 1, 0, 0, 1, 1, 1, 1], [1, 1, 1, 1, 0, 0, 0, 1, 1]]\n",
            "   ?  is  document  first  second  and  third  the  this\n",
            "0  0   1         1      1       0    0      0    1     1\n",
            "1  0   1         1      0       1    0      0    1     1\n",
            "2  0   1         1      0       0    1      1    1     1\n",
            "3  1   1         1      1       0    0      0    1     1\n"
          ],
          "name": "stdout"
        }
      ]
    },
    {
      "cell_type": "markdown",
      "metadata": {
        "id": "6c5HsuPK44TJ"
      },
      "source": [
        "다음과 같은 결과가 나와야 합니다 (단어의 순서는 달라도 괜찮습니다):\n",
        "```\n",
        "   is  ?  first  and  document  this  the  second  third\n",
        "0   2  0      1    0         1     1    1       0      0\n",
        "1   2  0      0    0         1     1    1       1      0\n",
        "2   2  0      0    1         1     1    1       0      1\n",
        "3   2  1      1    0         1     1    1       0      0\n",
        "```\n",
        "(슬라이드에는 0또는 1로 카운트를 했지만, 튜토리얼에서는 그냥 카운트를 하겠습니다! (e.g. is가 두 개 포함되어 있다면 그냥 2로)"
      ]
    },
    {
      "cell_type": "code",
      "metadata": {
        "id": "k8W1mGQO454u",
        "colab": {
          "base_uri": "https://localhost:8080/"
        },
        "outputId": "658c8f4c-eb00-4f36-fd6d-454a6cb321e1"
      },
      "source": [
        "# this will print out the similarities of the documents to each other\n",
        "sim_matrix = cosine_similarity(dtm.to_numpy(), dtm.to_numpy())\n",
        "print(sim_matrix)"
      ],
      "execution_count": 23,
      "outputs": [
        {
          "output_type": "stream",
          "text": [
            "[[1.         0.8        0.73029674 0.91287093]\n",
            " [0.8        1.         0.73029674 0.73029674]\n",
            " [0.73029674 0.73029674 1.         0.66666667]\n",
            " [0.91287093 0.73029674 0.66666667 1.        ]]\n"
          ],
          "name": "stdout"
        }
      ]
    }
  ]
}