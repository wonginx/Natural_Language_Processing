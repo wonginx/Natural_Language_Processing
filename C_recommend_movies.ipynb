{
  "nbformat": 4,
  "nbformat_minor": 0,
  "metadata": {
    "colab": {
      "name": "C_recommend_movies_class_4.ipynb의 사본",
      "provenance": [],
      "collapsed_sections": [],
      "include_colab_link": true
    },
    "kernelspec": {
      "name": "python3",
      "display_name": "Python 3"
    },
    "language_info": {
      "name": "python"
    }
  },
  "cells": [
    {
      "cell_type": "markdown",
      "metadata": {
        "id": "view-in-github",
        "colab_type": "text"
      },
      "source": [
        "<a href=\"https://colab.research.google.com/github/wozzin/Natural_Language_Processing/blob/main/C_recommend_movies.ipynb\" target=\"_parent\"><img src=\"https://colab.research.google.com/assets/colab-badge.svg\" alt=\"Open In Colab\"/></a>"
      ]
    },
    {
      "cell_type": "code",
      "metadata": {
        "colab": {
          "base_uri": "https://localhost:8080/"
        },
        "id": "wo3qVMZtzX4R",
        "outputId": "1bff80d9-3638-48e9-b8c5-b0ed67f2135b"
      },
      "source": [
        "# install and import the libraries needed\n",
        "# this script is heavily inspired by Wikidocs\n",
        "!pip3 install scikit-learn\n",
        "!pip3 install gdown\n",
        "from typing import Tuple, List\n",
        "import numpy as np\n",
        "import pandas as pd\n",
        "from scipy.spatial.distance import pdist\n",
        "from sklearn.feature_extraction.text import TfidfVectorizer, CountVectorizer\n",
        "from sklearn.metrics.pairwise import cosine_similarity, euclidean_distances, manhattan_distances\n",
        "import os\n",
        "import gdown # for downloading the data stored in google drive"
      ],
      "execution_count": null,
      "outputs": [
        {
          "output_type": "stream",
          "text": [
            "Requirement already satisfied: scikit-learn in /usr/local/lib/python3.7/dist-packages (0.22.2.post1)\n",
            "Requirement already satisfied: joblib>=0.11 in /usr/local/lib/python3.7/dist-packages (from scikit-learn) (1.0.1)\n",
            "Requirement already satisfied: scipy>=0.17.0 in /usr/local/lib/python3.7/dist-packages (from scikit-learn) (1.4.1)\n",
            "Requirement already satisfied: numpy>=1.11.0 in /usr/local/lib/python3.7/dist-packages (from scikit-learn) (1.19.5)\n",
            "Requirement already satisfied: gdown in /usr/local/lib/python3.7/dist-packages (3.6.4)\n",
            "Requirement already satisfied: requests in /usr/local/lib/python3.7/dist-packages (from gdown) (2.23.0)\n",
            "Requirement already satisfied: six in /usr/local/lib/python3.7/dist-packages (from gdown) (1.15.0)\n",
            "Requirement already satisfied: tqdm in /usr/local/lib/python3.7/dist-packages (from gdown) (4.41.1)\n",
            "Requirement already satisfied: certifi>=2017.4.17 in /usr/local/lib/python3.7/dist-packages (from requests->gdown) (2021.5.30)\n",
            "Requirement already satisfied: idna<3,>=2.5 in /usr/local/lib/python3.7/dist-packages (from requests->gdown) (2.10)\n",
            "Requirement already satisfied: chardet<4,>=3.0.2 in /usr/local/lib/python3.7/dist-packages (from requests->gdown) (3.0.4)\n",
            "Requirement already satisfied: urllib3!=1.25.0,!=1.25.1,<1.26,>=1.21.1 in /usr/local/lib/python3.7/dist-packages (from requests->gdown) (1.24.3)\n"
          ],
          "name": "stdout"
        }
      ]
    },
    {
      "cell_type": "code",
      "metadata": {
        "id": "gR1Ou-cz7M35"
      },
      "source": [
        "# --- constants --- #\n",
        "MOVIES_METADATA_CSV_URL = \"https://drive.google.com/u/0/uc?id=15I-izNgUJqybrPLK3qlZhLMCuuNcaJhJ&export=download\"\n",
        "MOVIES_METADATA_CSV = \"./movies_metadata.csv\"  # save the data in the current directory\n",
        "DOC_SIZE = 2000  # choose the size of the data here (너무 크면 시간이 오래 걸릴 수도 있음!)\n",
        "TOP_N = 30"
      ],
      "execution_count": null,
      "outputs": []
    },
    {
      "cell_type": "code",
      "metadata": {
        "colab": {
          "base_uri": "https://localhost:8080/",
          "height": 122
        },
        "id": "P3oOhimF0LWY",
        "outputId": "f4a94c65-d830-456d-8fa7-6ef98b8b6fdd"
      },
      "source": [
        "# download the data\n",
        "gdown.download(url=MOVIES_METADATA_CSV_URL, output=MOVIES_METADATA_CSV, quiet=False)"
      ],
      "execution_count": null,
      "outputs": [
        {
          "output_type": "stream",
          "text": [
            "Downloading...\n",
            "From: https://drive.google.com/u/0/uc?id=15I-izNgUJqybrPLK3qlZhLMCuuNcaJhJ&export=download\n",
            "To: /content/movies_metadata.csv\n",
            "34.4MB [00:00, 80.9MB/s]\n"
          ],
          "name": "stderr"
        },
        {
          "output_type": "execute_result",
          "data": {
            "application/vnd.google.colaboratory.intrinsic+json": {
              "type": "string"
            },
            "text/plain": [
              "'./movies_metadata.csv'"
            ]
          },
          "metadata": {
            "tags": []
          },
          "execution_count": 3
        }
      ]
    },
    {
      "cell_type": "code",
      "metadata": {
        "colab": {
          "base_uri": "https://localhost:8080/",
          "height": 430
        },
        "id": "PMlfpCSY0syr",
        "outputId": "e463f6da-f3f1-4b95-8cfd-1d22f4af6a1b"
      },
      "source": [
        "# have a look at the data\n",
        "movies_df = pd.read_csv(MOVIES_METADATA_CSV, low_memory=False)\n",
        "movies_df.head(3)"
      ],
      "execution_count": null,
      "outputs": [
        {
          "output_type": "execute_result",
          "data": {
            "text/html": [
              "<div>\n",
              "<style scoped>\n",
              "    .dataframe tbody tr th:only-of-type {\n",
              "        vertical-align: middle;\n",
              "    }\n",
              "\n",
              "    .dataframe tbody tr th {\n",
              "        vertical-align: top;\n",
              "    }\n",
              "\n",
              "    .dataframe thead th {\n",
              "        text-align: right;\n",
              "    }\n",
              "</style>\n",
              "<table border=\"1\" class=\"dataframe\">\n",
              "  <thead>\n",
              "    <tr style=\"text-align: right;\">\n",
              "      <th></th>\n",
              "      <th>adult</th>\n",
              "      <th>belongs_to_collection</th>\n",
              "      <th>budget</th>\n",
              "      <th>genres</th>\n",
              "      <th>homepage</th>\n",
              "      <th>id</th>\n",
              "      <th>imdb_id</th>\n",
              "      <th>original_language</th>\n",
              "      <th>original_title</th>\n",
              "      <th>overview</th>\n",
              "      <th>popularity</th>\n",
              "      <th>poster_path</th>\n",
              "      <th>production_companies</th>\n",
              "      <th>production_countries</th>\n",
              "      <th>release_date</th>\n",
              "      <th>revenue</th>\n",
              "      <th>runtime</th>\n",
              "      <th>spoken_languages</th>\n",
              "      <th>status</th>\n",
              "      <th>tagline</th>\n",
              "      <th>title</th>\n",
              "      <th>video</th>\n",
              "      <th>vote_average</th>\n",
              "      <th>vote_count</th>\n",
              "    </tr>\n",
              "  </thead>\n",
              "  <tbody>\n",
              "    <tr>\n",
              "      <th>0</th>\n",
              "      <td>False</td>\n",
              "      <td>{'id': 10194, 'name': 'Toy Story Collection', ...</td>\n",
              "      <td>30000000</td>\n",
              "      <td>[{'id': 16, 'name': 'Animation'}, {'id': 35, '...</td>\n",
              "      <td>http://toystory.disney.com/toy-story</td>\n",
              "      <td>862</td>\n",
              "      <td>tt0114709</td>\n",
              "      <td>en</td>\n",
              "      <td>Toy Story</td>\n",
              "      <td>Led by Woody, Andy's toys live happily in his ...</td>\n",
              "      <td>21.946943</td>\n",
              "      <td>/rhIRbceoE9lR4veEXuwCC2wARtG.jpg</td>\n",
              "      <td>[{'name': 'Pixar Animation Studios', 'id': 3}]</td>\n",
              "      <td>[{'iso_3166_1': 'US', 'name': 'United States o...</td>\n",
              "      <td>1995-10-30</td>\n",
              "      <td>373554033.0</td>\n",
              "      <td>81.0</td>\n",
              "      <td>[{'iso_639_1': 'en', 'name': 'English'}]</td>\n",
              "      <td>Released</td>\n",
              "      <td>NaN</td>\n",
              "      <td>Toy Story</td>\n",
              "      <td>False</td>\n",
              "      <td>7.7</td>\n",
              "      <td>5415.0</td>\n",
              "    </tr>\n",
              "    <tr>\n",
              "      <th>1</th>\n",
              "      <td>False</td>\n",
              "      <td>NaN</td>\n",
              "      <td>65000000</td>\n",
              "      <td>[{'id': 12, 'name': 'Adventure'}, {'id': 14, '...</td>\n",
              "      <td>NaN</td>\n",
              "      <td>8844</td>\n",
              "      <td>tt0113497</td>\n",
              "      <td>en</td>\n",
              "      <td>Jumanji</td>\n",
              "      <td>When siblings Judy and Peter discover an encha...</td>\n",
              "      <td>17.015539</td>\n",
              "      <td>/vzmL6fP7aPKNKPRTFnZmiUfciyV.jpg</td>\n",
              "      <td>[{'name': 'TriStar Pictures', 'id': 559}, {'na...</td>\n",
              "      <td>[{'iso_3166_1': 'US', 'name': 'United States o...</td>\n",
              "      <td>1995-12-15</td>\n",
              "      <td>262797249.0</td>\n",
              "      <td>104.0</td>\n",
              "      <td>[{'iso_639_1': 'en', 'name': 'English'}, {'iso...</td>\n",
              "      <td>Released</td>\n",
              "      <td>Roll the dice and unleash the excitement!</td>\n",
              "      <td>Jumanji</td>\n",
              "      <td>False</td>\n",
              "      <td>6.9</td>\n",
              "      <td>2413.0</td>\n",
              "    </tr>\n",
              "    <tr>\n",
              "      <th>2</th>\n",
              "      <td>False</td>\n",
              "      <td>{'id': 119050, 'name': 'Grumpy Old Men Collect...</td>\n",
              "      <td>0</td>\n",
              "      <td>[{'id': 10749, 'name': 'Romance'}, {'id': 35, ...</td>\n",
              "      <td>NaN</td>\n",
              "      <td>15602</td>\n",
              "      <td>tt0113228</td>\n",
              "      <td>en</td>\n",
              "      <td>Grumpier Old Men</td>\n",
              "      <td>A family wedding reignites the ancient feud be...</td>\n",
              "      <td>11.7129</td>\n",
              "      <td>/6ksm1sjKMFLbO7UY2i6G1ju9SML.jpg</td>\n",
              "      <td>[{'name': 'Warner Bros.', 'id': 6194}, {'name'...</td>\n",
              "      <td>[{'iso_3166_1': 'US', 'name': 'United States o...</td>\n",
              "      <td>1995-12-22</td>\n",
              "      <td>0.0</td>\n",
              "      <td>101.0</td>\n",
              "      <td>[{'iso_639_1': 'en', 'name': 'English'}]</td>\n",
              "      <td>Released</td>\n",
              "      <td>Still Yelling. Still Fighting. Still Ready for...</td>\n",
              "      <td>Grumpier Old Men</td>\n",
              "      <td>False</td>\n",
              "      <td>6.5</td>\n",
              "      <td>92.0</td>\n",
              "    </tr>\n",
              "  </tbody>\n",
              "</table>\n",
              "</div>"
            ],
            "text/plain": [
              "   adult  ... vote_count\n",
              "0  False  ...     5415.0\n",
              "1  False  ...     2413.0\n",
              "2  False  ...       92.0\n",
              "\n",
              "[3 rows x 24 columns]"
            ]
          },
          "metadata": {
            "tags": []
          },
          "execution_count": 14
        }
      ]
    },
    {
      "cell_type": "code",
      "metadata": {
        "id": "4zQ26p4V1pwc"
      },
      "source": [
        "# resize the dataframe\n",
        "movies_df = movies_df.head(DOC_SIZE)\n",
        "# we don't want any null values. So replace them with an empty string.\n",
        "# 왜 drop_duplicates?\n",
        "movies_df['overview'] = movies_df['overview'].fillna('')"
      ],
      "execution_count": null,
      "outputs": []
    },
    {
      "cell_type": "code",
      "metadata": {
        "colab": {
          "base_uri": "https://localhost:8080/"
        },
        "id": "St_NzNCP17cF",
        "outputId": "9a3fbbd9-0600-48e4-a228-be7e4219b76a"
      },
      "source": [
        "### TODO 1 #### \n",
        "# use CountVectorizer & TfidfVectorizer to construct dtm & dtm_tfidf\n",
        "count = CountVectorizer(binary=True) #tf. binary\n",
        "\n",
        "dtm: np.ndarray = count.fit_transform(movies_df['overview']).toarray()\n",
        "dtm_tfidf: np.ndarray = tfidf.fit_transform(movies_df['overview']).toarray()  # from csr_matrix to numpy array.  # 이제는 이거 한줄로 끝내기!\n",
        "###############\n",
        "print(dtm)  # should be csr sparse matrix\n",
        "print(dtm.shape)  # (num_docs, num_terms) 당연히.. 대부분은 0 이겠지! - 다시한번 sparsity를 확인할 수 있다.\n",
        "print(dtm_tfidf)  # should be csr sparse matrix\n",
        "print(dtm_tfidf.shape)  # (num_docs, num_terms) 당연히.. 대부분은 0 이겠지! - 다시한번 sparsity를 확인할 수 있다."
      ],
      "execution_count": null,
      "outputs": [
        {
          "output_type": "stream",
          "text": [
            "CountVectorizer(analyzer='word', binary=True, decode_error='strict',\n",
            "                dtype=<class 'numpy.int64'>, encoding='utf-8', input='content',\n",
            "                lowercase=True, max_df=1.0, max_features=None, min_df=1,\n",
            "                ngram_range=(1, 1), preprocessor=None, stop_words=None,\n",
            "                strip_accents=None, token_pattern='(?u)\\\\b\\\\w\\\\w+\\\\b',\n",
            "                tokenizer=None, vocabulary=None)\n",
            "[[0 0 0 ... 0 0 0]\n",
            " [0 0 0 ... 0 0 0]\n",
            " [0 0 0 ... 0 0 0]\n",
            " ...\n",
            " [0 0 0 ... 0 0 0]\n",
            " [0 0 0 ... 0 0 0]\n",
            " [0 0 0 ... 0 0 0]]\n",
            "(2000, 14195)\n",
            "[[0. 0. 0. ... 0. 0. 0.]\n",
            " [0. 0. 0. ... 0. 0. 0.]\n",
            " [0. 0. 0. ... 0. 0. 0.]\n",
            " ...\n",
            " [0. 0. 0. ... 0. 0. 0.]\n",
            " [0. 0. 0. ... 0. 0. 0.]\n",
            " [0. 0. 0. ... 0. 0. 0.]]\n",
            "(2000, 14195)\n"
          ],
          "name": "stdout"
        }
      ]
    },
    {
      "cell_type": "code",
      "metadata": {
        "colab": {
          "base_uri": "https://localhost:8080/"
        },
        "id": "sOrgzyS82axj",
        "outputId": "a3d29c65-659d-452e-e7a7-a11daffb6a77"
      },
      "source": [
        "# cosine distance -> this is vectorized...\n",
        "sims_cosine = cosine_similarity(dtm)\n",
        "sims_cosine_tfidf = cosine_similarity(dtm_tfidf)  # this may take a while... \n",
        "print(sims_cosine.shape)  # (num_doc, num_doc)\n",
        "print(sims_cosine_tfidf.shape)  # (num_doc, num_doc)"
      ],
      "execution_count": null,
      "outputs": [
        {
          "output_type": "stream",
          "text": [
            "(2000, 2000)\n",
            "(2000, 2000)\n"
          ],
          "name": "stdout"
        }
      ]
    },
    {
      "cell_type": "code",
      "metadata": {
        "colab": {
          "base_uri": "https://localhost:8080/"
        },
        "id": "qh1S_7f_6Ewe",
        "outputId": "d7c653cb-d598-4c1a-e37b-3a7d209b5349"
      },
      "source": [
        "# Note that these are distances, now\n",
        "dists_manhattan_tfidf = manhattan_distances(dtm_tfidf)\n",
        "print(dists_manhattan_tfidf.shape)  # (num_doc, num_doc)"
      ],
      "execution_count": null,
      "outputs": [
        {
          "output_type": "stream",
          "text": [
            "(2000, 2000)\n"
          ],
          "name": "stdout"
        }
      ]
    },
    {
      "cell_type": "code",
      "metadata": {
        "colab": {
          "base_uri": "https://localhost:8080/"
        },
        "id": "IGLQyzqP6GY3",
        "outputId": "b1865fc4-356f-4175-e4eb-ec5dd3c040a2"
      },
      "source": [
        "dists_euclidean_tfidf = euclidean_distances(dtm_tfidf)  # this may take a while... not efficient at all? cosine - it didn't take that much of a time. but manhattan... well that took some time.\n",
        "print(dists_euclidean_tfidf.shape)  # (num_doc, num_doc)"
      ],
      "execution_count": null,
      "outputs": [
        {
          "output_type": "stream",
          "text": [
            "(2000, 2000)\n"
          ],
          "name": "stdout"
        }
      ]
    },
    {
      "cell_type": "code",
      "metadata": {
        "colab": {
          "base_uri": "https://localhost:8080/"
        },
        "id": "dd1skSXD2rAd",
        "outputId": "8616bc2a-ded8-4e96-c9ad-9cb6e5aefd59"
      },
      "source": [
        "# this is to retrive the titles\n",
        "# drop_duplicates: 안하게 되면 같은 영화의 경우,인덱스가 달라질 수 있다.\n",
        "# 사실 필요는 없을 것.\n",
        "indices = pd.Series(data=movies_df.index, index=movies_df['title']).drop_duplicates()\n",
        "indices.head(5)"
      ],
      "execution_count": null,
      "outputs": [
        {
          "output_type": "execute_result",
          "data": {
            "text/plain": [
              "title\n",
              "Toy Story                      0\n",
              "Jumanji                        1\n",
              "Grumpier Old Men               2\n",
              "Waiting to Exhale              3\n",
              "Father of the Bride Part II    4\n",
              "dtype: int64"
            ]
          },
          "metadata": {
            "tags": []
          },
          "execution_count": 24
        }
      ]
    },
    {
      "cell_type": "code",
      "metadata": {
        "colab": {
          "base_uri": "https://localhost:8080/"
        },
        "id": "gxn_tGf7aCMK",
        "outputId": "55dd64f8-7adc-4b79-dfb9-b72d649fdfff"
      },
      "source": [
        "batman_idx = indices[\"Batman\"]\n",
        "batman_returns_idx = indices[\"Batman Returns\"]\n",
        "toy_story_idx = indices[\"Toy Story\"]\n",
        "print(sims_cosine_tfidf[batman_idx, batman_returns_idx])\n",
        "print(sims_cosine_tfidf[batman_idx, toy_story_idx])\n"
      ],
      "execution_count": null,
      "outputs": [
        {
          "output_type": "stream",
          "text": [
            "0.19155692273625355\n",
            "0.01586093997388227\n"
          ],
          "name": "stdout"
        }
      ]
    },
    {
      "cell_type": "code",
      "metadata": {
        "colab": {
          "base_uri": "https://localhost:8080/"
        },
        "id": "5HDAm5RvbcTX",
        "outputId": "ddd9cc5f-3874-4b1f-84ad-9f17c779fe96"
      },
      "source": [
        "print(type(indices))"
      ],
      "execution_count": null,
      "outputs": [
        {
          "output_type": "stream",
          "text": [
            "<class 'pandas.core.series.Series'>\n"
          ],
          "name": "stdout"
        }
      ]
    },
    {
      "cell_type": "code",
      "metadata": {
        "id": "7dC8oiowJZvN"
      },
      "source": [
        "indices[\"Toy Story\"] -> 0"
      ],
      "execution_count": null,
      "outputs": []
    },
    {
      "cell_type": "code",
      "metadata": {
        "id": "CLWL0gTVzmH1"
      },
      "source": [
        "def get_recommendations(title: str,\n",
        "                        # dists X\n",
        "                        sims: np.ndarray,\n",
        "                        indices: pd.Series,\n",
        "                        data: pd.DataFrame) -> List[Tuple[str, float]]:\n",
        "    global TOP_N\n",
        "    ### TODO 2 ###\n",
        "    # 루프는 사용 X\n",
        "    # use: np.argsort()[::-1] to recommend titles with scores\n",
        "    title_idx = indices[title]\n",
        "    # sims_to_title = sims[title_idx]\n",
        "    # sims_to_title = sims[title_idx, :] -> 설명을 위해서.\n",
        "    # shape이 똑같은거 같은데 어떠한 차이가 있는지 궁금합니다~!\n",
        "    sims_to_title = sims[title_idx, :] # (2000, )\n",
        "    sims_to_title_sorted: List[float] = np.sort(sims_to_title)[::-1]\n",
        "    title_indices_sorted = np.argsort(sims_to_title)[::-1]\n",
        "    titles_sorted: List[str] = data['title'][title_indices_sorted]\n",
        "    results: List[Tuple[str, float]] = [\n",
        "        (title, score)\n",
        "        for title, score in zip(titles_sorted, sims_to_title_sorted)\n",
        "    ]\n",
        "    ##############\n",
        "    return results[:TOP_N]"
      ],
      "execution_count": null,
      "outputs": []
    },
    {
      "cell_type": "code",
      "metadata": {
        "colab": {
          "base_uri": "https://localhost:8080/"
        },
        "id": "SUDn7Pt0kUdg",
        "outputId": "1ab6d5a0-533b-409b-c242-7da5cea17675"
      },
      "source": [
        "my_list = [1, 2, 3]\n",
        "print(my_list[::-1])"
      ],
      "execution_count": null,
      "outputs": [
        {
          "output_type": "stream",
          "text": [
            "[3, 2, 1]\n"
          ],
          "name": "stdout"
        }
      ]
    },
    {
      "cell_type": "code",
      "metadata": {
        "id": "QtFA07PirO4N",
        "colab": {
          "base_uri": "https://localhost:8080/"
        },
        "outputId": "0c269d0c-09eb-40d5-e2e4-22d263b332ef"
      },
      "source": [
        "# compare the results of dtm with tfidf\n",
        "# 이유는 다들 알고 계십니다! ㅎㅎ\n",
        "print(\"#### dtm + cosine sim ####\")\n",
        "for idx, (title, score) in enumerate(get_recommendations(\"Batman\", sims_cosine, indices, movies_df)):\n",
        "  print(idx, title, score)\n",
        "print(\"#### tfidf + cosine sim ####\")\n",
        "for idx, (title, score) in enumerate(get_recommendations(\"Batman\", sims_cosine_tfidf, indices, movies_df)):\n",
        "  print(idx, title, score)"
      ],
      "execution_count": null,
      "outputs": [
        {
          "output_type": "stream",
          "text": [
            "#### dtm + cosine sim ####\n",
            "0 Batman 0.9999999999999999\n",
            "1 Cry, the Beloved Country 0.2886751345948129\n",
            "2 The War at Home 0.2738612787525831\n",
            "3 Batman & Robin 0.2649064714130089\n",
            "4 Jane Austen's Mafia! 0.26352313834736496\n",
            "5 Love & Human Remains 0.2624453295839119\n",
            "6 Batman Returns 0.24937733402690823\n",
            "7 Midnight Cowboy 0.2475368857441686\n",
            "8 The Shadow 0.24618298195866553\n",
            "9 Highlander 0.24494897427831788\n",
            "10 Mad Dog Time 0.24056261216234412\n",
            "11 Apocalypse Now 0.2357022603955159\n",
            "12 Major Payne 0.23328473740792172\n",
            "13 Chairman of the Board 0.23145502494313785\n",
            "14 Jason's Lyric 0.22821773229381925\n",
            "15 City of Industry 0.22821773229381925\n",
            "16 Surviving Picasso 0.22742941307367104\n",
            "17 Oliver & Company 0.22430886163681776\n",
            "18 The Sting 0.223606797749979\n",
            "19 A Thousand Acres 0.223606797749979\n",
            "20 Anna Karenina 0.222717701593687\n",
            "21 Barcelona 0.22222222222222227\n",
            "22 Amityville 3-D 0.22019275302527216\n",
            "23 With Honors 0.21997067253203\n",
            "24 Frankie Starlight 0.21759706994462233\n",
            "25 The Apostle 0.2175970699446223\n",
            "26 A Brother's Kiss 0.21541010921383233\n",
            "27 Batman Forever 0.21442250696755896\n",
            "28 Fools Rush In 0.21442250696755896\n",
            "29 Glory 0.21281413268968719\n",
            "#### tfidf + cosine sim ####\n",
            "0 Batman 1.0000000000000002\n",
            "1 Batman Returns 0.19155692273625355\n",
            "2 Batman & Robin 0.1758295995796183\n",
            "3 Batman Forever 0.14581071757552017\n",
            "4 Cry, the Beloved Country 0.11109312245823069\n",
            "5 B. Monkey 0.10544235266596627\n",
            "6 The Shadow 0.10514679108660141\n",
            "7 Sweet Nothing 0.10035634826245518\n",
            "8 A Month by the Lake 0.10023026852720505\n",
            "9 Chairman of the Board 0.09920814012584121\n",
            "10 The War at Home 0.0988387365764903\n",
            "11 Dune 0.09875401691372578\n",
            "12 Mediterraneo 0.09803176049698262\n",
            "13 Return of the Jedi 0.09217825522595026\n",
            "14 The Pompatus of Love 0.09085969169749389\n",
            "15 Cyclo 0.08667634812405352\n",
            "16 Commandments 0.08651635230910235\n",
            "17 Apocalypse Now 0.08609774357728836\n",
            "18 Friday the 13th: A New Beginning 0.08605652456139677\n",
            "19 Dangerous Game 0.08604236366845823\n",
            "20 Highlander 0.08602706777821761\n",
            "21 Metropolis 0.08398384733774258\n",
            "22 Somebody Is Waiting 0.08258337613352316\n",
            "23 M 0.08193657697542574\n",
            "24 Mrs. Miniver 0.0811774410090339\n",
            "25 The Apostle 0.08031383520515435\n",
            "26 Love & Human Remains 0.07949255311413515\n",
            "27 Quest for Camelot 0.07620981980957346\n",
            "28 The Godfather 0.07611144248399408\n",
            "29 Major Payne 0.07599169295295434\n"
          ],
          "name": "stdout"
        }
      ]
    },
    {
      "cell_type": "code",
      "metadata": {
        "colab": {
          "base_uri": "https://localhost:8080/"
        },
        "id": "3LD9-Zti8DTv",
        "outputId": "f38b9796-db8a-45d7-95b4-f281933f691d"
      },
      "source": [
        "### TODO 3 ###\n",
        "# use different similarity measures and compare the results\n",
        "# note that dists != sims\n",
        "print(\"#### tfidf + cosine sim ####\")\n",
        "for idx, (title, score) in enumerate(get_recommendations(\"Batman\", sims_cosine_tfidf, indices, movies_df)):\n",
        "  print(idx, title, score)\n",
        "print(\"\\n#### tfidf + euclidean dists ####\")\n",
        "for idx, (title, score) in enumerate(get_recommendations(\"Batman\", -dists_euclidean_tfidf, indices, movies_df)):\n",
        "  print(idx, title, score)\n",
        "print(\"\\n#### tfidf + manhattan dists ####\")\n",
        "for idx, (title, score) in enumerate(get_recommendations(\"Batman\", -dists_manhattan_tfidf, indices, movies_df)):\n",
        "  print(idx, title, score) \n",
        "##############   "
      ],
      "execution_count": null,
      "outputs": [
        {
          "output_type": "stream",
          "text": [
            "#### tfidf + cosine sim ####\n",
            "0 Batman 1.0000000000000002\n",
            "1 Batman Returns 0.19155692273625355\n",
            "2 Batman & Robin 0.1758295995796183\n",
            "3 Batman Forever 0.14581071757552017\n",
            "4 Cry, the Beloved Country 0.11109312245823069\n",
            "5 B. Monkey 0.10544235266596627\n",
            "6 The Shadow 0.10514679108660141\n",
            "7 Sweet Nothing 0.10035634826245518\n",
            "8 A Month by the Lake 0.10023026852720505\n",
            "9 Chairman of the Board 0.09920814012584121\n",
            "10 The War at Home 0.0988387365764903\n",
            "11 Dune 0.09875401691372578\n",
            "12 Mediterraneo 0.09803176049698262\n",
            "13 Return of the Jedi 0.09217825522595026\n",
            "14 The Pompatus of Love 0.09085969169749389\n",
            "15 Cyclo 0.08667634812405352\n",
            "16 Commandments 0.08651635230910235\n",
            "17 Apocalypse Now 0.08609774357728836\n",
            "18 Friday the 13th: A New Beginning 0.08605652456139677\n",
            "19 Dangerous Game 0.08604236366845823\n",
            "20 Highlander 0.08602706777821761\n",
            "21 Metropolis 0.08398384733774258\n",
            "22 Somebody Is Waiting 0.08258337613352316\n",
            "23 M 0.08193657697542574\n",
            "24 Mrs. Miniver 0.0811774410090339\n",
            "25 The Apostle 0.08031383520515435\n",
            "26 Love & Human Remains 0.07949255311413515\n",
            "27 Quest for Camelot 0.07620981980957346\n",
            "28 The Godfather 0.07611144248399408\n",
            "29 Major Payne 0.07599169295295434\n",
            "\n",
            "#### tfidf + euclidean dists ####\n",
            "0 Batman -0.0\n",
            "1 Bird of Prey -1.0\n",
            "2 Wings of Courage -1.0\n",
            "3 Happy Weekend -1.0\n",
            "4 A Boy Called Hate -1.0\n",
            "5 Salut cousin ! -1.0\n",
            "6 Diebinnen -1.0\n",
            "7 The Superwife -1.0\n",
            "8 The Day the Sun Turned Cold -1.0\n",
            "9 Peanuts – Die Bank zahlt alles -1.0\n",
            "10 Guantanamera -1.0\n",
            "11 Und keiner weint mir nach -1.0\n",
            "12 Mille bolle blu -1.0\n",
            "13 Baton Rouge -1.0\n",
            "14 Under The Domim Tree -1.0\n",
            "15 The Proprietor -1.0\n",
            "16 Roommates -1.0\n",
            "17 Batman Returns -1.2715683837401326\n",
            "18 Batman & Robin -1.2838772530272369\n",
            "19 Batman Forever -1.3070495648019473\n",
            "20 Cry, the Beloved Country -1.3333468247547366\n",
            "21 B. Monkey -1.3375781452565931\n",
            "22 The Shadow -1.3377990947174383\n",
            "23 Sweet Nothing -1.341375153890622\n",
            "24 A Month by the Lake -1.3414691434936512\n",
            "25 Chairman of the Board -1.3422308742345028\n",
            "26 The War at Home -1.34250606212673\n",
            "27 Dune -1.3425691662527293\n",
            "28 Mediterraneo -1.3431070244049932\n",
            "29 Return of the Jedi -1.3474581587374426\n",
            "\n",
            "#### tfidf + manhattan dists ####\n",
            "0 Batman -0.0\n",
            "1 Under The Domim Tree -4.3518825763077045\n",
            "2 A Boy Called Hate -4.3518825763077045\n",
            "3 Salut cousin ! -4.3518825763077045\n",
            "4 Bird of Prey -4.3518825763077045\n",
            "5 The Proprietor -4.3518825763077045\n",
            "6 Roommates -4.3518825763077045\n",
            "7 Baton Rouge -4.3518825763077045\n",
            "8 Wings of Courage -4.3518825763077045\n",
            "9 Mille bolle blu -4.3518825763077045\n",
            "10 The Day the Sun Turned Cold -4.3518825763077045\n",
            "11 Diebinnen -4.3518825763077045\n",
            "12 Guantanamera -4.3518825763077045\n",
            "13 Und keiner weint mir nach -4.3518825763077045\n",
            "14 The Superwife -4.3518825763077045\n",
            "15 Happy Weekend -4.3518825763077045\n",
            "16 Peanuts – Die Bank zahlt alles -4.3518825763077045\n",
            "17 Honeymoon -5.763775514125844\n",
            "18 Chairman of the Board -5.955694090394401\n",
            "19 Nobody Loves Me -6.0481425534633635\n",
            "20 Alien Escape -6.0481425534633635\n",
            "21 L'associé -6.0481425534633635\n",
            "22 Kaspar Hauser -6.0481425534633635\n",
            "23 The Life of Emile Zola -6.158415175484048\n",
            "24 Never Met Picasso -6.183290631456214\n",
            "25 Tar -6.220143567061439\n",
            "26 The Next Step -6.256217513662417\n",
            "27 Desperado -6.603747129768627\n",
            "28 It's My Party -6.634886826986637\n",
            "29 Paris, France -6.658542592686048\n"
          ],
          "name": "stdout"
        }
      ]
    },
    {
      "cell_type": "markdown",
      "metadata": {
        "id": "54SwLTG2Bb8J"
      },
      "source": [
        "# 다음의 문제에 답하세요.\n",
        "> cosine >> euclidean & manhattan 인 이유는 무엇인가요?\n",
        "1. 고차원 벡터 사이의 유사도를 구하는데, 벡터의 거리를 고려하지 X 각도만을 고려하는 cosine 거리는 차원의저주의 영향을 덜 받는다.\n",
        "- 서재용09:25\n",
        "음...컬럼의 수가 너무 많아서?(차원의 저주) 또한 0값이 많기 때문에?\n",
        "2. 김영학09:25\n",
        "- 고차원 데이터여서?, **문서의 길이 차이가 많이 나는 경우여서 (2-178)**?결측치의 영향을 안 받아서?(=?벡터의 크기에 영향을 안 받음...각도로만 유사도 측정=?)\n",
        "\n",
        "> 일반적으로 고차원 벡터인 경우, manhattan이 euclidean보다 성능이 좋은 것으로 알려져 있습니다 (슬라이드). 하지만 이 문제에서는 euclidean > manhattan 입니다. 그 이유는 무엇인가요?\n",
        "\n",
        "- 논문 - \"일반적\" -> 정규분포, 푸아송 분포... -> [벡터 성분값은 저런 분포를 따른다] \"이상치\" -> 이상한 값. [1, 1, 1, ,10000]. \n",
        "- [벡터 성분 값] -> tfidf. \"이상치\"- [1, 1, 1, ,10000].\n",
        "- 안그래도 차원의 저주로 거리개념이 사라지는데, 유클리드 거리 -> tfidf가 높은/낮은 값 증폭. > ㅇ맨해튼. \n",
        "\n",
        "- 서재용09:29 0이 많은 데이터이기때문에 값들 사이 최단 거리(euclidean > manhattan)를 구하는게 더 정확도를 높이지 않났나 싶습니다. -> 일반적인 상황에서는 적합하지 않음. \n",
        "\n",
        "- 김영학09:30 정확한 이유는 모르겠음...단지, 문서의 길이에 영향을 받은듯함\n",
        "-> 결측치를 제외하고 맨해튼의 경우 거리가 작게(유사도가 높은) 나온 영화의 줄거리가 대체로 짧음 / ex - 영화 제목 : Honeymoon, 줄거리 - German Comedy\n",
        "(manhattan과 euclidean의 둘다 결측치가 유사도가 제일 높은걸로 나왔음 -> manhattan과 euclidean의 비교이므로 결측치 제외하고 비교함)\n"
      ]
    },
    {
      "cell_type": "code",
      "metadata": {
        "id": "6Srbls8tDPMX"
      },
      "source": [
        ""
      ],
      "execution_count": null,
      "outputs": []
    }
  ]
}